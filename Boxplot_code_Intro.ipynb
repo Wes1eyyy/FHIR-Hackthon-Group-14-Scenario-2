{
 "cells": [
  {
   "cell_type": "markdown",
   "id": "16b7420c-f25b-4041-b837-89cf155bc8e2",
   "metadata": {},
   "source": [
    "**Boxplot Age Distribution by Gender Graph Back-end code Introduction**\n",
    "\n",
    "Expect function: Users can input the desired disease name and then obtain the incidence data of the disease on men and women of different ages through a box plot\n",
    "\n",
    "Author: Wesley Xu\n",
    "\n",
    "- AI generated comments are used\n",
    "- 1 Datasets_size = 20 patients_info\n",
    "- Due to the original data request from hapi.fhir.org is generated, some patients have a negative age (born in the future), so that those people are been filtered and will not shown on the graph. This cost the input datasets size will different than the actual datasets shown on graph."
   ]
  },
  {
   "cell_type": "markdown",
   "id": "90731552-bfa6-4b37-a9ad-2dc1b0104a96",
   "metadata": {},
   "source": [
    "**AI Generated Introduction:**\n",
    "This script fetches and analyzes healthcare data for patients with a specific condition (e.g., Asthma) using the HAPI FHIR API. It includes functions to:\n",
    "\n",
    "1. **Filter Numeric Patient IDs**: Ensures patient IDs are purely numeric using regular expressions.\n",
    "2. **Calculate Age**: Computes patient age from the birth date using Python's `datetime`.\n",
    "3. **Retrieve Patient Details**: Gathers gender and age for patients with the specified condition.\n",
    "4. **Visualize Data**: Displays age distribution by gender in a boxplot for better understanding of patient demographics.\n",
    "\n",
    "The script emphasizes data fetching, validation, and visualization, providing insights into the age and gender distribution of patients affected by a particular medical condition."
   ]
  },
  {
   "cell_type": "code",
   "execution_count": 1,
   "id": "39b6cf35-b4fa-43ec-963c-6372cfa12c6b",
   "metadata": {},
   "outputs": [],
   "source": [
    "import requests                   # for fetch data from FHIR\n",
    "from datetime import datetime     # for Calculate Age\n",
    "import matplotlib.pyplot as plt   # for visualization\n",
    "import re                         # for regular expression filtering for abnormal information"
   ]
  },
  {
   "cell_type": "markdown",
   "id": "a89d006d-70c9-43bb-b1ce-ddd877ad862b",
   "metadata": {},
   "source": [
    "Data request functions:\n",
    "\n",
    "The `fetch_patient_details` function inputs a `patient_id` and outputs the patient's gender and age.\r\n",
    "\r\n",
    "The `fetch_conditions_and_patients` function takes a medical `condition` and a `request_limit` as inputs and returns a list of patient details, including ID, gender, and age, for patients with the specified condition."
   ]
  },
  {
   "cell_type": "code",
   "execution_count": 6,
   "id": "08e5617b-e727-475f-94aa-c5e5257a0186",
   "metadata": {},
   "outputs": [],
   "source": [
    "def fetch_conditions_and_patients(condition, request_limit):\n",
    "    # Construct the base URL for the condition search, limiting the returned elements to 'subject'\n",
    "    base_url = f\"https://hapi.fhir.org/baseR4/Condition?_content={condition}&_elements=subject\"\n",
    "    header = {\"Accept\": \"application/fhir+json\"}\n",
    "    patient_details = []\n",
    "\n",
    "    # Loop to make requests, limited by request_limit\n",
    "    for _ in range(request_limit):\n",
    "        response = requests.get(base_url, headers=header).json()\n",
    "        if \"entry\" in response:\n",
    "            for entry in response['entry']:\n",
    "                resource = entry['resource']\n",
    "                # Extract the patient ID from the subject reference\n",
    "                patient_id = resource['subject']['reference'].split('/')[1]\n",
    "\n",
    "                # Check if the patient ID contains only digits using a regular expression\n",
    "                if is_pure_numeric_id(patient_id):\n",
    "                    # Fetch patient details for valid numeric IDs\n",
    "                    gender, age = fetch_patient_details(patient_id)\n",
    "                    # Append the patient details (including ID, gender, and age) to the list\n",
    "                    patient_details.append({\"id\": patient_id, \"gender\": gender, \"age\": age})\n",
    "        \n",
    "        # Check for a link to the next page of results in the response\n",
    "        next_link = [link['url'] for link in response.get('link', []) if link['relation'] == 'next']\n",
    "        if next_link:\n",
    "            # Update the base URL to request the next page\n",
    "            base_url = next_link[0]\n",
    "        else:\n",
    "            # Exit the loop if there are no more pages\n",
    "            break\n",
    "\n",
    "    # Return the list of patient details\n",
    "    return patient_details\n",
    "\n",
    "def fetch_patient_details(patient_id):\n",
    "    # Construct the URL to request patient details with specific elements: gender and birthDate\n",
    "    base_url = f\"https://hapi.fhir.org/baseR4/Patient/{patient_id}?_elements=gender,birthDate\"\n",
    "    header = {\"Accept\": \"application/fhir+json\"}\n",
    "    response = requests.get(base_url, headers=header).json()\n",
    "    \n",
    "    # Extract gender and birth date from the response, use defaults if not found\n",
    "    gender = response.get(\"gender\", \"Unknown\")\n",
    "    birth_date = response.get(\"birthDate\", None)\n",
    "    \n",
    "    # Initialize age as None, it will be calculated if birth date is available\n",
    "    age = None\n",
    "    if birth_date:\n",
    "        # Calculate age based on the birth date\n",
    "        age = calculate_age(birth_date)\n",
    "    \n",
    "    # Return both gender and calculated age\n",
    "    return gender, age"
   ]
  },
  {
   "cell_type": "markdown",
   "id": "2c09d7d3-fb23-4bc2-a676-92b8d7810382",
   "metadata": {},
   "source": [
    "Functions used for filtering abnormal information and caculate age"
   ]
  },
  {
   "cell_type": "code",
   "execution_count": 7,
   "id": "8a0e0448-957d-41b0-adca-6e2778f75626",
   "metadata": {},
   "outputs": [],
   "source": [
    "def is_pure_numeric_id(s):\n",
    "    return re.match(r'^\\d+$', s) is not None\n",
    "\n",
    "def calculate_age(birth_date_str):\n",
    "    birth_date = datetime.strptime(birth_date_str, \"%Y-%m-%d\")\n",
    "    today = datetime.today()\n",
    "    return today.year - birth_date.year - ((today.month, today.day) < (birth_date.month, birth_date.day))"
   ]
  },
  {
   "cell_type": "markdown",
   "id": "0cdca65a-b9ca-439f-8186-4de41501d80b",
   "metadata": {},
   "source": [
    "Functions used for visualization:"
   ]
  },
  {
   "cell_type": "code",
   "execution_count": 8,
   "id": "c9847c9b-e673-4a9a-9a4a-e89e8f4a9a74",
   "metadata": {},
   "outputs": [],
   "source": [
    "def plot_age_distribution_by_gender(patient_info, condition):\n",
    "    # Calculate age lists for males and females separately\n",
    "    ages_male = [p['age'] for p in patient_info if p['gender'] == 'male']\n",
    "    ages_female = [p['age'] for p in patient_info if p['gender'] == 'female']\n",
    "    \n",
    "    # Prepare data: group ages by gender\n",
    "    ages_by_gender = {'Male': ages_male, 'Female': ages_female}\n",
    "    \n",
    "    # Create a boxplot\n",
    "    fig, ax = plt.subplots()\n",
    "    # The boxplot function takes a list of values for each category (in this case, gender) and plots them as separate boxplots. \n",
    "    # The 'labels' parameter assigns a label to each boxplot corresponding to the keys in the 'ages_by_gender' dictionary.\n",
    "    ax.boxplot(ages_by_gender.values(), labels=ages_by_gender.keys())\n",
    "    \n",
    "    # Set chart title and axis labels\n",
    "    # The title includes the condition being analyzed, specifies that it's a boxplot, and shows the distribution of age by gender.\n",
    "    # It also includes the total number of patients analyzed in the title for additional context.\n",
    "    ax.set_title(f'{condition} Boxplot: Age Distribution by Gender ({len(patient_info)} patients)')\n",
    "    ax.set_xlabel('Gender')\n",
    "    ax.set_ylabel('Age')\n",
    "    \n",
    "    # Display the chart\n",
    "    plt.show()"
   ]
  },
  {
   "cell_type": "markdown",
   "id": "cc76de31-b65e-4eb7-af5b-3b6e04e6ba6b",
   "metadata": {},
   "source": [
    "call the functions：\n",
    "- 'condition' represents the NAME of the disease.\n",
    "- 1 'Datasets_size' = 20 'info' in 'patient_info' (Larger datasets will result longer requesting time)"
   ]
  },
  {
   "cell_type": "code",
   "execution_count": 10,
   "id": "0f09a0b4-4ba8-425b-b29f-aeb3135a2509",
   "metadata": {},
   "outputs": [
    {
     "name": "stdout",
     "output_type": "stream",
     "text": [
      "{'id': '10672603', 'gender': 'male', 'age': 0}\n",
      "{'id': '10683749', 'gender': 'female', 'age': 0}\n",
      "{'id': '10723499', 'gender': 'female', 'age': 0}\n",
      "{'id': '10769105', 'gender': 'male', 'age': 35}\n",
      "{'id': '10769186', 'gender': 'male', 'age': 36}\n",
      "{'id': '7033576', 'gender': 'male', 'age': 40}\n",
      "{'id': '10907891', 'gender': 'female', 'age': 0}\n",
      "{'id': '10913946', 'gender': 'male', 'age': 23}\n",
      "{'id': '10945139', 'gender': 'male', 'age': 0}\n",
      "{'id': '10957578', 'gender': 'male', 'age': 36}\n",
      "{'id': '1393673', 'gender': 'female', 'age': 44}\n",
      "{'id': '2126234', 'gender': 'male', 'age': 25}\n",
      "{'id': '2126234', 'gender': 'male', 'age': 25}\n",
      "{'id': '2126234', 'gender': 'male', 'age': 25}\n",
      "{'id': '2126234', 'gender': 'male', 'age': 25}\n",
      "{'id': '10981594', 'gender': 'female', 'age': 32}\n",
      "{'id': '10982201', 'gender': 'female', 'age': 0}\n",
      "{'id': '10987068', 'gender': 'male', 'age': 28}\n",
      "{'id': '11033709', 'gender': 'female', 'age': 35}\n",
      "{'id': '11044637', 'gender': 'female', 'age': 0}\n",
      "{'id': '1457354', 'gender': 'female', 'age': 3}\n",
      "{'id': '1458912', 'gender': 'male', 'age': 9}\n",
      "{'id': '1459136', 'gender': 'female', 'age': 3}\n",
      "{'id': '1459225', 'gender': 'male', 'age': 3}\n",
      "{'id': '1459315', 'gender': 'male', 'age': 3}\n",
      "{'id': '1459879', 'gender': 'female', 'age': 3}\n",
      "{'id': '1459976', 'gender': 'male', 'age': 3}\n",
      "{'id': '1461062', 'gender': 'female', 'age': 64}\n",
      "{'id': '1465692', 'gender': 'male', 'age': 3}\n",
      "{'id': '1461232', 'gender': 'male', 'age': 3}\n",
      "{'id': '1460984', 'gender': 'female', 'age': 3}\n",
      "{'id': '1460412', 'gender': 'male', 'age': 39}\n",
      "{'id': '1460692', 'gender': 'male', 'age': 12}\n",
      "{'id': '1465928', 'gender': 'female', 'age': 3}\n",
      "{'id': '1466285', 'gender': 'female', 'age': 3}\n",
      "{'id': '1466100', 'gender': 'male', 'age': 3}\n",
      "{'id': '1466206', 'gender': 'female', 'age': 4}\n",
      "{'id': '1466020', 'gender': 'male', 'age': 36}\n",
      "{'id': '1467080', 'gender': 'female', 'age': 3}\n",
      "{'id': '1466751', 'gender': 'male', 'age': 3}\n",
      "{'id': '1467079', 'gender': 'female', 'age': 3}\n",
      "{'id': '1467000', 'gender': 'male', 'age': 3}\n",
      "{'id': '1467081', 'gender': 'female', 'age': 3}\n",
      "{'id': '1458156', 'gender': 'male', 'age': 3}\n",
      "{'id': '1458234', 'gender': 'female', 'age': 3}\n",
      "{'id': '1467305', 'gender': 'female', 'age': 3}\n",
      "{'id': '1467515', 'gender': 'female', 'age': 3}\n",
      "{'id': '1467338', 'gender': 'male', 'age': 3}\n",
      "{'id': '1467318', 'gender': 'female', 'age': 3}\n",
      "{'id': '1467304', 'gender': 'male', 'age': 3}\n",
      "{'id': '1467606', 'gender': 'female', 'age': 3}\n",
      "{'id': '1467607', 'gender': 'female', 'age': 3}\n",
      "{'id': '1467575', 'gender': 'female', 'age': 23}\n",
      "{'id': '1467563', 'gender': 'male', 'age': 3}\n",
      "{'id': '1467574', 'gender': 'female', 'age': 3}\n",
      "{'id': '1468093', 'gender': 'female', 'age': 3}\n",
      "{'id': '1468483', 'gender': 'male', 'age': 41}\n",
      "{'id': '1468172', 'gender': 'female', 'age': 3}\n",
      "{'id': '1468171', 'gender': 'male', 'age': 32}\n",
      "{'id': '1468405', 'gender': 'male', 'age': 3}\n",
      "{'id': '1468327', 'gender': 'female', 'age': 3}\n",
      "{'id': '1468561', 'gender': 'female', 'age': 3}\n",
      "{'id': '1468718', 'gender': 'female', 'age': 3}\n",
      "{'id': '1468796', 'gender': 'female', 'age': 3}\n",
      "{'id': '1468640', 'gender': 'female', 'age': 3}\n",
      "{'id': '1468972', 'gender': 'female', 'age': 3}\n",
      "{'id': '1469417', 'gender': 'female', 'age': 3}\n",
      "{'id': '1469159', 'gender': 'male', 'age': 3}\n",
      "{'id': '1469339', 'gender': 'male', 'age': 3}\n",
      "{'id': '1470189', 'gender': 'female', 'age': 3}\n",
      "{'id': '1469889', 'gender': 'female', 'age': 3}\n",
      "{'id': '1470078', 'gender': 'male', 'age': 3}\n",
      "{'id': '1470463', 'gender': 'female', 'age': 3}\n",
      "{'id': '1470321', 'gender': 'male', 'age': 3}\n",
      "{'id': '1470611', 'gender': 'female', 'age': 3}\n",
      "{'id': '1471038', 'gender': 'male', 'age': 3}\n"
     ]
    },
    {
     "data": {
      "image/png": "[encoded data removed]",
      "text/plain": [
       "<Figure size 640x480 with 1 Axes>"
      ]
     },
     "metadata": {},
     "output_type": "display_data"
    }
   ],
   "source": [
    "# You can ask user to input those two variables:\n",
    "condition = \"Asthma\"  \n",
    "Datasets_size = 5\n",
    "\n",
    "patient_info = fetch_conditions_and_patients(condition, Datasets_size)\n",
    "for info in patient_info:\n",
    "    print(info)\n",
    "\n",
    "plot_age_distribution_by_gender(patient_info, condition)"
   ]
  }
 ],
 "metadata": {
  "kernelspec": {
   "display_name": "Python 3 (ipykernel)",
   "language": "python",
   "name": "python3"
  },
  "language_info": {
   "codemirror_mode": {
    "name": "ipython",
    "version": 3
   },
   "file_extension": ".py",
   "mimetype": "text/x-python",
   "name": "python",
   "nbconvert_exporter": "python",
   "pygments_lexer": "ipython3",
   "version": "3.8.18"
  }
 },
 "nbformat": 4,
 "nbformat_minor": 5
}
